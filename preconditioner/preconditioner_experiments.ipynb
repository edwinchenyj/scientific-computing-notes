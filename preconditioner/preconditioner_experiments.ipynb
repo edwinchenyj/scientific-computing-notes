{
  "nbformat": 4,
  "nbformat_minor": 0,
  "metadata": {
    "colab": {
      "name": "Untitled1.ipynb",
      "provenance": [],
      "authorship_tag": "ABX9TyPgUJD1Ng39mNN95XY5KLTs",
      "include_colab_link": true
    },
    "kernelspec": {
      "name": "python3",
      "display_name": "Python 3"
    },
    "language_info": {
      "name": "python"
    }
  },
  "cells": [
    {
      "cell_type": "markdown",
      "metadata": {
        "id": "view-in-github",
        "colab_type": "text"
      },
      "source": [
        "<a href=\"https://colab.research.google.com/github/edwinchenyj/scientific-computing-notes/blob/main/preconditioner/preconditioner_experiments.ipynb\" target=\"_parent\"><img src=\"https://colab.research.google.com/assets/colab-badge.svg\" alt=\"Open In Colab\"/></a>"
      ]
    },
    {
      "cell_type": "markdown",
      "metadata": {
        "id": "6KKbhO3BdBMe"
      },
      "source": [
        "# Preconditioner Experiements\n",
        "First we need to setup a enviornment to test preconditioners. List of things we need:\n",
        "* Random SPD matrix\n",
        "  - [] solve with CG\n",
        "  - [] solve with PCG using diagonal preconditioner\n",
        "  - [] solve with PCG using incomplete cholesky\n",
        "We can also test with SPD matrix from other applications. Notice that optimization problems with second-order methods almost always requires solving SPD matrices.\n"
      ]
    },
    {
      "cell_type": "markdown",
      "metadata": {
        "id": "Ltrt6WvXfzhP"
      },
      "source": [
        "## Example 1: Random SPD matrix"
      ]
    },
    {
      "cell_type": "code",
      "metadata": {
        "id": "4IaOm3eJUW8z"
      },
      "source": [
        "import numpy as np\n",
        "from scipy import stats\n",
        "from scipy.sparse import csc_matrix\n",
        "from scipy.sparse import spdiags, issparse, random\n",
        "from scipy.sparse.linalg import cg, LinearOperator, spsolve\n",
        "rng = np.random.default_rng()\n",
        "rvs = stats.poisson(25, loc=10).rvs\n",
        "n = 100\n",
        "A = random(n,n, density=0.2, random_state=rng, data_rvs=rvs)\n",
        "A = A + A.transpose()\n",
        "b = np.random.rand(n,)"
      ],
      "execution_count": null,
      "outputs": []
    },
    {
      "cell_type": "code",
      "metadata": {
        "colab": {
          "base_uri": "https://localhost:8080/"
        },
        "id": "PbBUATDYgt6S",
        "outputId": "59869b06-d95f-4a08-fa24-5746dfe402e9"
      },
      "source": [
        "%%time \n",
        "x = spsolve(A, b)\n",
        "print(np.linalg.norm(A.dot(x)-b))"
      ],
      "execution_count": 27,
      "outputs": [
        {
          "output_type": "stream",
          "text": [
            "7.910352684760337e-14\n",
            "CPU times: user 2.1 ms, sys: 3 µs, total: 2.1 ms\n",
            "Wall time: 2.51 ms\n"
          ],
          "name": "stdout"
        }
      ]
    },
    {
      "cell_type": "code",
      "metadata": {
        "id": "fVAgpJiFYWE6",
        "colab": {
          "base_uri": "https://localhost:8080/"
        },
        "outputId": "9c5d82a9-5a9b-4d7e-bf05-36624e8cf4fc"
      },
      "source": [
        "%%time\n",
        "x = cg(A,b)"
      ],
      "execution_count": 34,
      "outputs": [
        {
          "output_type": "stream",
          "text": [
            "(2,)\n",
            "CPU times: user 12.9 ms, sys: 998 µs, total: 13.9 ms\n",
            "Wall time: 19.7 ms\n"
          ],
          "name": "stdout"
        },
        {
          "output_type": "stream",
          "text": [
            "/usr/local/lib/python3.7/dist-packages/numpy/core/_asarray.py:83: VisibleDeprecationWarning: Creating an ndarray from ragged nested sequences (which is a list-or-tuple of lists-or-tuples-or ndarrays with different lengths or shapes) is deprecated. If you meant to do this, you must specify 'dtype=object' when creating the ndarray\n",
            "  return array(a, dtype, copy=False, order=order)\n"
          ],
          "name": "stderr"
        }
      ]
    }
  ]
}