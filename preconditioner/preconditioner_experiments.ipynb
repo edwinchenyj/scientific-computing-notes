{
  "nbformat": 4,
  "nbformat_minor": 0,
  "metadata": {
    "colab": {
      "name": "preconditioner_experiments.ipynb",
      "provenance": [],
      "collapsed_sections": [],
      "authorship_tag": "ABX9TyN9ZZDMYQqAR/g8YdcPlqBa",
      "include_colab_link": true
    },
    "kernelspec": {
      "name": "python3",
      "display_name": "Python 3"
    },
    "language_info": {
      "name": "python"
    }
  },
  "cells": [
    {
      "cell_type": "markdown",
      "metadata": {
        "id": "view-in-github",
        "colab_type": "text"
      },
      "source": [
        "<a href=\"https://colab.research.google.com/github/edwinchenyj/scientific-computing-notes/blob/main/preconditioner/preconditioner_experiments.ipynb\" target=\"_parent\"><img src=\"https://colab.research.google.com/assets/colab-badge.svg\" alt=\"Open In Colab\"/></a>"
      ]
    },
    {
      "cell_type": "markdown",
      "metadata": {
        "id": "6KKbhO3BdBMe"
      },
      "source": [
        "# Preconditioner Experiements\n",
        "First we need to setup a enviornment to test preconditioners. List of things we need:\n",
        "* Random SPD matrix\n",
        "  - [x] solve with CG\n",
        "  - [x] solve with PCG using diagonal preconditioner\n",
        "  - [ ] solve with PCG using incomplete cholesky\n",
        "We can also test with SPD matrix from other applications. Notice that optimization problems with second-order methods almost always requires solving SPD matrices.\n"
      ]
    },
    {
      "cell_type": "markdown",
      "metadata": {
        "id": "Ltrt6WvXfzhP"
      },
      "source": [
        "## Example 1: Random SPD matrix"
      ]
    },
    {
      "cell_type": "code",
      "metadata": {
        "id": "4IaOm3eJUW8z"
      },
      "source": [
        "import numpy as np\n",
        "from scipy import stats\n",
        "from scipy.sparse import csc_matrix\n",
        "from scipy.sparse import spdiags, issparse, random, eye\n",
        "from scipy.sparse.linalg import cg, LinearOperator, spsolve, spilu\n",
        "rng = np.random.default_rng()\n",
        "rvs = stats.poisson(25, loc=10).rvs\n",
        "n = 1000\n",
        "A = random(n,n, density=0.05, random_state=rng, data_rvs=rvs)\n",
        "A = A + A.transpose() + n*eye(n)\n",
        "b = np.random.rand(n,)\n",
        "\n",
        "n_loops = 10"
      ],
      "execution_count": 108,
      "outputs": []
    },
    {
      "cell_type": "markdown",
      "metadata": {
        "id": "M9w0T5Y_kB9h"
      },
      "source": [
        "### scipy.sparse.spsolve"
      ]
    },
    {
      "cell_type": "code",
      "metadata": {
        "colab": {
          "base_uri": "https://localhost:8080/"
        },
        "id": "PbBUATDYgt6S",
        "outputId": "48314cb4-a4dd-4efb-ed62-66d1df226699"
      },
      "source": [
        "%%time \n",
        "for i in range(n_loops):\n",
        "  x = spsolve(A, b)\n",
        "print(np.linalg.norm(A.dot(x)-b))"
      ],
      "execution_count": 109,
      "outputs": [
        {
          "output_type": "stream",
          "text": [
            "1.9020110746891997e-14\n",
            "CPU times: user 2.66 s, sys: 1.62 s, total: 4.28 s\n",
            "Wall time: 2.24 s\n"
          ],
          "name": "stdout"
        }
      ]
    },
    {
      "cell_type": "markdown",
      "metadata": {
        "id": "P_Jp3Om0kIGY"
      },
      "source": [
        "### scipy.sparse.cg w/o preconditioner"
      ]
    },
    {
      "cell_type": "code",
      "metadata": {
        "id": "fVAgpJiFYWE6",
        "colab": {
          "base_uri": "https://localhost:8080/"
        },
        "outputId": "974961bd-0c9f-4e4f-9966-768407979810"
      },
      "source": [
        "%%time\n",
        "for i in range(n_loops):\n",
        "  x, info = cg(A,b)\n",
        "\n",
        "print(info)\n",
        "print(np.linalg.norm(A.dot(x)-b))"
      ],
      "execution_count": 110,
      "outputs": [
        {
          "output_type": "stream",
          "text": [
            "0\n",
            "0.00010049117014895657\n",
            "CPU times: user 42.2 ms, sys: 0 ns, total: 42.2 ms\n",
            "Wall time: 46.5 ms\n"
          ],
          "name": "stdout"
        }
      ]
    },
    {
      "cell_type": "markdown",
      "metadata": {
        "id": "ioHY7y3bkNNz"
      },
      "source": [
        "### scipy.sparse.cg w/ diagonal preconditioner"
      ]
    },
    {
      "cell_type": "code",
      "metadata": {
        "id": "MImNXeU8kSpG"
      },
      "source": [
        "M_column = np.sqrt(np.diag(A.todense()))\n",
        "M = spdiags(M_column,0,n,n)"
      ],
      "execution_count": 111,
      "outputs": []
    },
    {
      "cell_type": "code",
      "metadata": {
        "colab": {
          "base_uri": "https://localhost:8080/"
        },
        "id": "eWPo0mnpo3Wf",
        "outputId": "62c96616-a278-4c8a-8343-42aea2238d7a"
      },
      "source": [
        "%%time\n",
        "for i in range(n_loops):\n",
        "  x, info = cg(A,b,M=M)\n",
        "print(info)\n",
        "print(np.linalg.norm(A.dot(x)-b))"
      ],
      "execution_count": 112,
      "outputs": [
        {
          "output_type": "stream",
          "text": [
            "0\n",
            "0.0001009970122341842\n",
            "CPU times: user 41.9 ms, sys: 0 ns, total: 41.9 ms\n",
            "Wall time: 46 ms\n"
          ],
          "name": "stdout"
        }
      ]
    }
  ]
}