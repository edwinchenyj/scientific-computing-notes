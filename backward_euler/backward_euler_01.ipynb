{
  "nbformat": 4,
  "nbformat_minor": 0,
  "metadata": {
    "colab": {
      "name": "backward_euler_01.ipynb",
      "provenance": [],
      "collapsed_sections": [],
      "authorship_tag": "ABX9TyMv1zMM6z4jEPlIYZWyW9rw",
      "include_colab_link": true
    },
    "kernelspec": {
      "name": "python3",
      "display_name": "Python 3"
    },
    "language_info": {
      "name": "python"
    }
  },
  "cells": [
    {
      "cell_type": "markdown",
      "metadata": {
        "id": "view-in-github",
        "colab_type": "text"
      },
      "source": [
        "<a href=\"https://colab.research.google.com/github/edwinchenyj/scientific-computing-notes/blob/main/backward_euler/backward_euler_01.ipynb\" target=\"_parent\"><img src=\"https://colab.research.google.com/assets/colab-badge.svg\" alt=\"Open In Colab\"/></a>"
      ]
    },
    {
      "cell_type": "markdown",
      "metadata": {
        "id": "Qvw3zlfX70lK"
      },
      "source": [
        "# Backward Euler Method in Computer Graphics, Part 1\n",
        "\n",
        "In this series, I will talk about the most popular method in physically-based simulation in computer graphics: semi-implicit backward Euler method.\n",
        "It was first introduced to the graphics community in 1997 by [Baraff and Witkin](https://dl.acm.org/doi/10.1145/280814.280821). At the time of this post, there are 2380 citation on [Google Scholar](https://scholar.google.com/scholar?hl=en&as_sdt=0%2C5&q=large+steps+in+cloth+simulation&oq=large).\n",
        "I will demonstrate the what it can achieve and why it is so popular with some examples. If you like to learn interactively, you can download the Matlab livescript or Python notebook file [here](https://github.com/edwinchenyj/scientific-computing-notes/tree/main/backward_euler)."
      ]
    },
    {
      "cell_type": "markdown",
      "metadata": {
        "id": "cyofk_hp8u9m"
      },
      "source": [
        "Since we will be talking about backward Euler method and semi-implicit backward Euler method a lot, we will use BE whenever we refer to the former, and SI when we refer to the latter.\n",
        "##Backward Euler method\n",
        "BE is a very simple method for solving ODEs. If you have taken an ODE course, you probably have seen it before. The [Wikipedia entry](https://en.wikipedia.org/wiki/Backward_Euler_method) also does a great job explaining the theoretical background you need to know. Here we will focus on the implementation detail.\n",
        "\n",
        "First we will define a ODE and it's initial condition:\n",
        "$$\\begin{array}{l}\n",
        "u^{\\prime } =f\\left(t,u\\right)\\;\\\\\n",
        "u\\left(0\\right)=u_0 \n",
        "\\end{array}$$\n",
        "BE approximates the trajectory $u(t)$ by\n",
        "$$u_{k+1} =u_k +hf\\left(t_{k+1} ,u_{k+1} \\right)\\ldotp$$\n",
        "Since BE is an implicit method, the main complication comes from the equation above: Our unknown $u_{k+1}$ appears on both side. How do you solve it?\n",
        "\n",
        "The are many choices and many papers dedicated to solving this equation efficiently. SI picked a simple method that works well in practice.\n",
        "\n",
        "##SI\n",
        "In SI, $u_{k+1}$ is approximated by using Newton's method with only 1 iteration. That is, we want to find the root of\n",
        "$$F\\left(u_{k+1} \\right)=u_{k+1} -u_k -hf\\left(t_{k+1} ,u_{k+1} \\right)$$\n",
        "Notice that everything besides $u_{k+1}$ is known. The first Newton iteration is\n",
        "$$u_{k+1}^1 =u_{k+1}^0 -\\frac{F\\left(u_{k+1}^0 \\right)}{F^{\\prime } \\left(u_{k+1}^0 \\right)}$$\n",
        "On the RHS we need to evaluate $F\\left(u\\right)$ and\n",
        "$$F^{\\prime } \\left(u\\right)=I-h\\frac{\\partial f}{\\partial u}\\left(t_{k+1} ,u\\right)$$\n",
        "at $u_{k+1}^0$. The equation becomes\n",
        "$$u_{k+1}^1 =u_{k+1}^0 -{\\left(I-h\\frac{\\partial f}{\\partial u}\\left(t_{k+1} ,u_{k+1}^0 \\right)\\right)}^{-1} \\left(u_{k+1}^0 -u_k -hf\\left(t_{k+1} ,u_{k+1}^0 \\right)\\right)$$ \n",
        "Once we initialize the first guess to be the solution from the previous step, $u_{k+1}^0 =u_k$, and set $t_{k+1} =t_k +h$, there's no unknown on the RHS since everything has subscript $k$. Also in computer animation $f$ is usually modelled as a time-independent function\n",
        "$$u_{k+1}^1 =u_k +{\\left(I-hf'\\left(u_k \\right)\\right)}^{-1} \\left(hf\\left(u_k \\right)\\right)$$\n",
        "As we mentioned earlier, SI approximates $u_{k+1}$ with only one Newtion iteration, so we have our final equation for SI\n",
        "$$u_{k+1} =u_k +{\\left(I -hf'(u_k)\\right)}^{-1} \\left(hf\\left(u_k \\right)\\right)$$\n",
        "This method is *semi-implicit* because there is no unknown on the RHS. However, unlike fully explicit methods, we need to calculate the Jacobian $f'$ and perform a matrix inverse. Next we will do some experiements to see SI in action."
      ]
    },
    {
      "cell_type": "markdown",
      "metadata": {
        "id": "_TyGmeAOQ6Y_"
      },
      "source": [
        "## Example 1"
      ]
    }
  ]
}